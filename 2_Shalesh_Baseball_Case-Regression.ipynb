{
 "cells": [
  {
   "cell_type": "markdown",
   "metadata": {
    "id": "T0ExKNrmQwxy"
   },
   "source": [
    "# Baseball case study\n",
    "This dataset utilizes data from 2014 Major League Baseball seasons in order to develop an algorithm that predicts the number of wins for a given team in the 2015 season based on several different indicators of success.There are 16 different features that will be used as the inputs to the machine learning and the output will be a value that represents the number of wins. \n",
    "-- Input features: Runs, At Bats, Hits, Doubles, Triples, Homeruns, Walks, Strikeouts,Stolen Bases, Runs Allowed, Earned Runs, Earned Run Average (ERA), Shutouts, Saves, and Errors\n",
    "\n",
    "-- Output: Number of predicted wins (W)\n",
    "\n",
    "-- General Approach: For predicting the number of wins a baseball team will attain -- based on the given input features, a linear regression approach is neccessary. \n",
    "\n",
    "Dataset available\n",
    "https://github.com/saxenashailesh199/BASEBALL-PROJECT\n"
   ]
  },
  {
   "cell_type": "code",
   "execution_count": 1,
   "metadata": {},
   "outputs": [],
   "source": [
    "import warnings\n",
    "warnings.filterwarnings(\"ignore\")"
   ]
  },
  {
   "cell_type": "code",
   "execution_count": 2,
   "metadata": {
    "id": "PrpmlSpmQwyB",
    "outputId": "7433e2ae-30fe-4579-8dff-4de0138d28ee"
   },
   "outputs": [],
   "source": [
    "import pandas as pd"
   ]
  },
  {
   "cell_type": "code",
   "execution_count": 3,
   "metadata": {},
   "outputs": [],
   "source": [
    "import numpy as np\n",
    "import seaborn as sns \n",
    "import matplotlib.pyplot as plt"
   ]
  },
  {
   "cell_type": "code",
   "execution_count": 4,
   "metadata": {},
   "outputs": [
    {
     "data": {
      "text/html": [
       "<div>\n",
       "<style scoped>\n",
       "    .dataframe tbody tr th:only-of-type {\n",
       "        vertical-align: middle;\n",
       "    }\n",
       "\n",
       "    .dataframe tbody tr th {\n",
       "        vertical-align: top;\n",
       "    }\n",
       "\n",
       "    .dataframe thead th {\n",
       "        text-align: right;\n",
       "    }\n",
       "</style>\n",
       "<table border=\"1\" class=\"dataframe\">\n",
       "  <thead>\n",
       "    <tr style=\"text-align: right;\">\n",
       "      <th></th>\n",
       "      <th>W</th>\n",
       "      <th>R</th>\n",
       "      <th>AB</th>\n",
       "      <th>H</th>\n",
       "      <th>2B</th>\n",
       "      <th>3B</th>\n",
       "      <th>HR</th>\n",
       "      <th>BB</th>\n",
       "      <th>SO</th>\n",
       "      <th>SB</th>\n",
       "      <th>RA</th>\n",
       "      <th>ER</th>\n",
       "      <th>ERA</th>\n",
       "      <th>CG</th>\n",
       "      <th>SHO</th>\n",
       "      <th>SV</th>\n",
       "      <th>E</th>\n",
       "    </tr>\n",
       "  </thead>\n",
       "  <tbody>\n",
       "    <tr>\n",
       "      <th>0</th>\n",
       "      <td>95</td>\n",
       "      <td>724</td>\n",
       "      <td>5575</td>\n",
       "      <td>1497</td>\n",
       "      <td>300</td>\n",
       "      <td>42</td>\n",
       "      <td>139</td>\n",
       "      <td>383</td>\n",
       "      <td>973</td>\n",
       "      <td>104</td>\n",
       "      <td>641</td>\n",
       "      <td>601</td>\n",
       "      <td>3.73</td>\n",
       "      <td>2</td>\n",
       "      <td>8</td>\n",
       "      <td>56</td>\n",
       "      <td>88</td>\n",
       "    </tr>\n",
       "    <tr>\n",
       "      <th>1</th>\n",
       "      <td>83</td>\n",
       "      <td>696</td>\n",
       "      <td>5467</td>\n",
       "      <td>1349</td>\n",
       "      <td>277</td>\n",
       "      <td>44</td>\n",
       "      <td>156</td>\n",
       "      <td>439</td>\n",
       "      <td>1264</td>\n",
       "      <td>70</td>\n",
       "      <td>700</td>\n",
       "      <td>653</td>\n",
       "      <td>4.07</td>\n",
       "      <td>2</td>\n",
       "      <td>12</td>\n",
       "      <td>45</td>\n",
       "      <td>86</td>\n",
       "    </tr>\n",
       "    <tr>\n",
       "      <th>2</th>\n",
       "      <td>81</td>\n",
       "      <td>669</td>\n",
       "      <td>5439</td>\n",
       "      <td>1395</td>\n",
       "      <td>303</td>\n",
       "      <td>29</td>\n",
       "      <td>141</td>\n",
       "      <td>533</td>\n",
       "      <td>1157</td>\n",
       "      <td>86</td>\n",
       "      <td>640</td>\n",
       "      <td>584</td>\n",
       "      <td>3.67</td>\n",
       "      <td>11</td>\n",
       "      <td>10</td>\n",
       "      <td>38</td>\n",
       "      <td>79</td>\n",
       "    </tr>\n",
       "    <tr>\n",
       "      <th>3</th>\n",
       "      <td>76</td>\n",
       "      <td>622</td>\n",
       "      <td>5533</td>\n",
       "      <td>1381</td>\n",
       "      <td>260</td>\n",
       "      <td>27</td>\n",
       "      <td>136</td>\n",
       "      <td>404</td>\n",
       "      <td>1231</td>\n",
       "      <td>68</td>\n",
       "      <td>701</td>\n",
       "      <td>643</td>\n",
       "      <td>3.98</td>\n",
       "      <td>7</td>\n",
       "      <td>9</td>\n",
       "      <td>37</td>\n",
       "      <td>101</td>\n",
       "    </tr>\n",
       "    <tr>\n",
       "      <th>4</th>\n",
       "      <td>74</td>\n",
       "      <td>689</td>\n",
       "      <td>5605</td>\n",
       "      <td>1515</td>\n",
       "      <td>289</td>\n",
       "      <td>49</td>\n",
       "      <td>151</td>\n",
       "      <td>455</td>\n",
       "      <td>1259</td>\n",
       "      <td>83</td>\n",
       "      <td>803</td>\n",
       "      <td>746</td>\n",
       "      <td>4.64</td>\n",
       "      <td>7</td>\n",
       "      <td>12</td>\n",
       "      <td>35</td>\n",
       "      <td>86</td>\n",
       "    </tr>\n",
       "  </tbody>\n",
       "</table>\n",
       "</div>"
      ],
      "text/plain": [
       "    W    R    AB     H   2B  3B   HR   BB    SO   SB   RA   ER   ERA  CG  SHO  \\\n",
       "0  95  724  5575  1497  300  42  139  383   973  104  641  601  3.73   2    8   \n",
       "1  83  696  5467  1349  277  44  156  439  1264   70  700  653  4.07   2   12   \n",
       "2  81  669  5439  1395  303  29  141  533  1157   86  640  584  3.67  11   10   \n",
       "3  76  622  5533  1381  260  27  136  404  1231   68  701  643  3.98   7    9   \n",
       "4  74  689  5605  1515  289  49  151  455  1259   83  803  746  4.64   7   12   \n",
       "\n",
       "   SV    E  \n",
       "0  56   88  \n",
       "1  45   86  \n",
       "2  38   79  \n",
       "3  37  101  \n",
       "4  35   86  "
      ]
     },
     "execution_count": 4,
     "metadata": {},
     "output_type": "execute_result"
    }
   ],
   "source": [
    "df=pd.read_csv(\"baseball.csv\")\n",
    "df.head()"
   ]
  },
  {
   "cell_type": "code",
   "execution_count": 5,
   "metadata": {
    "id": "MeJnOesTQwyE",
    "outputId": "829ebc93-639c-4d96-a7d1-7e2e0c263cb8"
   },
   "outputs": [
    {
     "data": {
      "text/plain": [
       "(30, 17)"
      ]
     },
     "execution_count": 5,
     "metadata": {},
     "output_type": "execute_result"
    }
   ],
   "source": [
    "df.shape"
   ]
  },
  {
   "cell_type": "code",
   "execution_count": 6,
   "metadata": {
    "id": "GU1WgerOQwyF",
    "outputId": "d17fca1b-5c56-4ecf-a950-b6e9377bbc22"
   },
   "outputs": [
    {
     "data": {
      "text/plain": [
       "W      0\n",
       "R      0\n",
       "AB     0\n",
       "H      0\n",
       "2B     0\n",
       "3B     0\n",
       "HR     0\n",
       "BB     0\n",
       "SO     0\n",
       "SB     0\n",
       "RA     0\n",
       "ER     0\n",
       "ERA    0\n",
       "CG     0\n",
       "SHO    0\n",
       "SV     0\n",
       "E      0\n",
       "dtype: int64"
      ]
     },
     "execution_count": 6,
     "metadata": {},
     "output_type": "execute_result"
    }
   ],
   "source": [
    "#lets check the null valuewithout using visualisation\n",
    "\n",
    "df.isnull().sum()"
   ]
  },
  {
   "cell_type": "markdown",
   "metadata": {},
   "source": [
    "# Checking the Outliers"
   ]
  },
  {
   "cell_type": "code",
   "execution_count": 7,
   "metadata": {
    "id": "y1Zf6fO2QwyI",
    "outputId": "f6c53a25-40ab-44e4-a01a-ff2a2339abf7"
   },
   "outputs": [
    {
     "name": "stdout",
     "output_type": "stream",
     "text": [
      "(30, 17)\n"
     ]
    }
   ],
   "source": [
    "#lets check whether their are outliers present in the dataset or not\n",
    "from scipy.stats import zscore\n",
    "\n",
    "z_score=abs(zscore(df))\n",
    "print(df.shape)"
   ]
  },
  {
   "cell_type": "code",
   "execution_count": 8,
   "metadata": {
    "id": "w80sO_TnQwyJ",
    "outputId": "98280ecd-7606-41d6-acb1-2478d2ec1ccc"
   },
   "outputs": [
    {
     "name": "stdout",
     "output_type": "stream",
     "text": [
      "(29, 17)\n"
     ]
    }
   ],
   "source": [
    "df_baseball_final= df.loc[(z_score<3).all(axis=1)]\n",
    "print(df_baseball_final.shape)"
   ]
  },
  {
   "cell_type": "markdown",
   "metadata": {},
   "source": [
    "# Check The Correlation"
   ]
  },
  {
   "cell_type": "code",
   "execution_count": 9,
   "metadata": {},
   "outputs": [
    {
     "data": {
      "text/html": [
       "<div>\n",
       "<style scoped>\n",
       "    .dataframe tbody tr th:only-of-type {\n",
       "        vertical-align: middle;\n",
       "    }\n",
       "\n",
       "    .dataframe tbody tr th {\n",
       "        vertical-align: top;\n",
       "    }\n",
       "\n",
       "    .dataframe thead th {\n",
       "        text-align: right;\n",
       "    }\n",
       "</style>\n",
       "<table border=\"1\" class=\"dataframe\">\n",
       "  <thead>\n",
       "    <tr style=\"text-align: right;\">\n",
       "      <th></th>\n",
       "      <th>W</th>\n",
       "      <th>R</th>\n",
       "      <th>AB</th>\n",
       "      <th>H</th>\n",
       "      <th>2B</th>\n",
       "      <th>3B</th>\n",
       "      <th>HR</th>\n",
       "      <th>BB</th>\n",
       "      <th>SO</th>\n",
       "      <th>SB</th>\n",
       "      <th>RA</th>\n",
       "      <th>ER</th>\n",
       "      <th>ERA</th>\n",
       "      <th>CG</th>\n",
       "      <th>SHO</th>\n",
       "      <th>SV</th>\n",
       "      <th>E</th>\n",
       "    </tr>\n",
       "  </thead>\n",
       "  <tbody>\n",
       "    <tr>\n",
       "      <th>W</th>\n",
       "      <td>1.000000</td>\n",
       "      <td>0.390451</td>\n",
       "      <td>-0.085780</td>\n",
       "      <td>-0.018360</td>\n",
       "      <td>0.384886</td>\n",
       "      <td>-0.206737</td>\n",
       "      <td>0.245697</td>\n",
       "      <td>0.447513</td>\n",
       "      <td>0.156469</td>\n",
       "      <td>-0.169503</td>\n",
       "      <td>-0.823176</td>\n",
       "      <td>-0.815308</td>\n",
       "      <td>-0.826952</td>\n",
       "      <td>0.029594</td>\n",
       "      <td>0.497526</td>\n",
       "      <td>0.749290</td>\n",
       "      <td>-0.072858</td>\n",
       "    </tr>\n",
       "    <tr>\n",
       "      <th>R</th>\n",
       "      <td>0.390451</td>\n",
       "      <td>1.000000</td>\n",
       "      <td>0.438022</td>\n",
       "      <td>0.433525</td>\n",
       "      <td>0.469293</td>\n",
       "      <td>0.134204</td>\n",
       "      <td>0.586894</td>\n",
       "      <td>0.258450</td>\n",
       "      <td>0.081158</td>\n",
       "      <td>0.075323</td>\n",
       "      <td>-0.013858</td>\n",
       "      <td>0.007727</td>\n",
       "      <td>-0.009122</td>\n",
       "      <td>0.101438</td>\n",
       "      <td>-0.085108</td>\n",
       "      <td>0.061381</td>\n",
       "      <td>0.043123</td>\n",
       "    </tr>\n",
       "    <tr>\n",
       "      <th>AB</th>\n",
       "      <td>-0.085780</td>\n",
       "      <td>0.438022</td>\n",
       "      <td>1.000000</td>\n",
       "      <td>0.769159</td>\n",
       "      <td>0.490752</td>\n",
       "      <td>0.445604</td>\n",
       "      <td>-0.064653</td>\n",
       "      <td>-0.137850</td>\n",
       "      <td>-0.111243</td>\n",
       "      <td>0.373674</td>\n",
       "      <td>0.315499</td>\n",
       "      <td>0.309146</td>\n",
       "      <td>0.254872</td>\n",
       "      <td>-0.078511</td>\n",
       "      <td>-0.198872</td>\n",
       "      <td>-0.113342</td>\n",
       "      <td>0.316297</td>\n",
       "    </tr>\n",
       "    <tr>\n",
       "      <th>H</th>\n",
       "      <td>-0.018360</td>\n",
       "      <td>0.433525</td>\n",
       "      <td>0.769159</td>\n",
       "      <td>1.000000</td>\n",
       "      <td>0.528016</td>\n",
       "      <td>0.582024</td>\n",
       "      <td>-0.218711</td>\n",
       "      <td>-0.222271</td>\n",
       "      <td>-0.371861</td>\n",
       "      <td>0.417877</td>\n",
       "      <td>0.244606</td>\n",
       "      <td>0.280571</td>\n",
       "      <td>0.256458</td>\n",
       "      <td>0.092577</td>\n",
       "      <td>-0.135116</td>\n",
       "      <td>-0.079814</td>\n",
       "      <td>-0.011945</td>\n",
       "    </tr>\n",
       "    <tr>\n",
       "      <th>2B</th>\n",
       "      <td>0.384886</td>\n",
       "      <td>0.469293</td>\n",
       "      <td>0.490752</td>\n",
       "      <td>0.528016</td>\n",
       "      <td>1.000000</td>\n",
       "      <td>0.342419</td>\n",
       "      <td>-0.098695</td>\n",
       "      <td>0.211243</td>\n",
       "      <td>-0.096772</td>\n",
       "      <td>0.194308</td>\n",
       "      <td>-0.215196</td>\n",
       "      <td>-0.224993</td>\n",
       "      <td>-0.248212</td>\n",
       "      <td>0.244856</td>\n",
       "      <td>0.084060</td>\n",
       "      <td>0.269999</td>\n",
       "      <td>0.145032</td>\n",
       "    </tr>\n",
       "    <tr>\n",
       "      <th>3B</th>\n",
       "      <td>-0.206737</td>\n",
       "      <td>0.134204</td>\n",
       "      <td>0.445604</td>\n",
       "      <td>0.582024</td>\n",
       "      <td>0.342419</td>\n",
       "      <td>1.000000</td>\n",
       "      <td>-0.369299</td>\n",
       "      <td>-0.404852</td>\n",
       "      <td>-0.196586</td>\n",
       "      <td>0.483818</td>\n",
       "      <td>0.312750</td>\n",
       "      <td>0.333731</td>\n",
       "      <td>0.325883</td>\n",
       "      <td>-0.003733</td>\n",
       "      <td>-0.058896</td>\n",
       "      <td>-0.210627</td>\n",
       "      <td>0.108610</td>\n",
       "    </tr>\n",
       "    <tr>\n",
       "      <th>HR</th>\n",
       "      <td>0.245697</td>\n",
       "      <td>0.586894</td>\n",
       "      <td>-0.064653</td>\n",
       "      <td>-0.218711</td>\n",
       "      <td>-0.098695</td>\n",
       "      <td>-0.369299</td>\n",
       "      <td>1.000000</td>\n",
       "      <td>0.336814</td>\n",
       "      <td>0.479914</td>\n",
       "      <td>-0.166072</td>\n",
       "      <td>-0.092586</td>\n",
       "      <td>-0.062094</td>\n",
       "      <td>-0.070756</td>\n",
       "      <td>0.065978</td>\n",
       "      <td>0.005546</td>\n",
       "      <td>0.066984</td>\n",
       "      <td>-0.189790</td>\n",
       "    </tr>\n",
       "    <tr>\n",
       "      <th>BB</th>\n",
       "      <td>0.447513</td>\n",
       "      <td>0.258450</td>\n",
       "      <td>-0.137850</td>\n",
       "      <td>-0.222271</td>\n",
       "      <td>0.211243</td>\n",
       "      <td>-0.404852</td>\n",
       "      <td>0.336814</td>\n",
       "      <td>1.000000</td>\n",
       "      <td>0.315566</td>\n",
       "      <td>-0.117622</td>\n",
       "      <td>-0.425381</td>\n",
       "      <td>-0.455832</td>\n",
       "      <td>-0.465794</td>\n",
       "      <td>0.417437</td>\n",
       "      <td>0.473922</td>\n",
       "      <td>0.187101</td>\n",
       "      <td>-0.050114</td>\n",
       "    </tr>\n",
       "    <tr>\n",
       "      <th>SO</th>\n",
       "      <td>0.156469</td>\n",
       "      <td>0.081158</td>\n",
       "      <td>-0.111243</td>\n",
       "      <td>-0.371861</td>\n",
       "      <td>-0.096772</td>\n",
       "      <td>-0.196586</td>\n",
       "      <td>0.479914</td>\n",
       "      <td>0.315566</td>\n",
       "      <td>1.000000</td>\n",
       "      <td>0.038188</td>\n",
       "      <td>-0.140570</td>\n",
       "      <td>-0.177655</td>\n",
       "      <td>-0.195362</td>\n",
       "      <td>-0.053075</td>\n",
       "      <td>0.231230</td>\n",
       "      <td>0.091394</td>\n",
       "      <td>0.142740</td>\n",
       "    </tr>\n",
       "    <tr>\n",
       "      <th>SB</th>\n",
       "      <td>-0.169503</td>\n",
       "      <td>0.075323</td>\n",
       "      <td>0.373674</td>\n",
       "      <td>0.417877</td>\n",
       "      <td>0.194308</td>\n",
       "      <td>0.483818</td>\n",
       "      <td>-0.166072</td>\n",
       "      <td>-0.117622</td>\n",
       "      <td>0.038188</td>\n",
       "      <td>1.000000</td>\n",
       "      <td>0.134315</td>\n",
       "      <td>0.146243</td>\n",
       "      <td>0.128848</td>\n",
       "      <td>-0.030708</td>\n",
       "      <td>-0.104602</td>\n",
       "      <td>-0.179741</td>\n",
       "      <td>0.082702</td>\n",
       "    </tr>\n",
       "    <tr>\n",
       "      <th>RA</th>\n",
       "      <td>-0.823176</td>\n",
       "      <td>-0.013858</td>\n",
       "      <td>0.315499</td>\n",
       "      <td>0.244606</td>\n",
       "      <td>-0.215196</td>\n",
       "      <td>0.312750</td>\n",
       "      <td>-0.092586</td>\n",
       "      <td>-0.425381</td>\n",
       "      <td>-0.140570</td>\n",
       "      <td>0.134315</td>\n",
       "      <td>1.000000</td>\n",
       "      <td>0.991286</td>\n",
       "      <td>0.986781</td>\n",
       "      <td>-0.005288</td>\n",
       "      <td>-0.641579</td>\n",
       "      <td>-0.642734</td>\n",
       "      <td>0.195846</td>\n",
       "    </tr>\n",
       "    <tr>\n",
       "      <th>ER</th>\n",
       "      <td>-0.815308</td>\n",
       "      <td>0.007727</td>\n",
       "      <td>0.309146</td>\n",
       "      <td>0.280571</td>\n",
       "      <td>-0.224993</td>\n",
       "      <td>0.333731</td>\n",
       "      <td>-0.062094</td>\n",
       "      <td>-0.455832</td>\n",
       "      <td>-0.177655</td>\n",
       "      <td>0.146243</td>\n",
       "      <td>0.991286</td>\n",
       "      <td>1.000000</td>\n",
       "      <td>0.997261</td>\n",
       "      <td>-0.002865</td>\n",
       "      <td>-0.637293</td>\n",
       "      <td>-0.621875</td>\n",
       "      <td>0.131556</td>\n",
       "    </tr>\n",
       "    <tr>\n",
       "      <th>ERA</th>\n",
       "      <td>-0.826952</td>\n",
       "      <td>-0.009122</td>\n",
       "      <td>0.254872</td>\n",
       "      <td>0.256458</td>\n",
       "      <td>-0.248212</td>\n",
       "      <td>0.325883</td>\n",
       "      <td>-0.070756</td>\n",
       "      <td>-0.465794</td>\n",
       "      <td>-0.195362</td>\n",
       "      <td>0.128848</td>\n",
       "      <td>0.986781</td>\n",
       "      <td>0.997261</td>\n",
       "      <td>1.000000</td>\n",
       "      <td>0.006038</td>\n",
       "      <td>-0.637186</td>\n",
       "      <td>-0.637755</td>\n",
       "      <td>0.108191</td>\n",
       "    </tr>\n",
       "    <tr>\n",
       "      <th>CG</th>\n",
       "      <td>0.029594</td>\n",
       "      <td>0.101438</td>\n",
       "      <td>-0.078511</td>\n",
       "      <td>0.092577</td>\n",
       "      <td>0.244856</td>\n",
       "      <td>-0.003733</td>\n",
       "      <td>0.065978</td>\n",
       "      <td>0.417437</td>\n",
       "      <td>-0.053075</td>\n",
       "      <td>-0.030708</td>\n",
       "      <td>-0.005288</td>\n",
       "      <td>-0.002865</td>\n",
       "      <td>0.006038</td>\n",
       "      <td>1.000000</td>\n",
       "      <td>0.264346</td>\n",
       "      <td>-0.332806</td>\n",
       "      <td>-0.123447</td>\n",
       "    </tr>\n",
       "    <tr>\n",
       "      <th>SHO</th>\n",
       "      <td>0.497526</td>\n",
       "      <td>-0.085108</td>\n",
       "      <td>-0.198872</td>\n",
       "      <td>-0.135116</td>\n",
       "      <td>0.084060</td>\n",
       "      <td>-0.058896</td>\n",
       "      <td>0.005546</td>\n",
       "      <td>0.473922</td>\n",
       "      <td>0.231230</td>\n",
       "      <td>-0.104602</td>\n",
       "      <td>-0.641579</td>\n",
       "      <td>-0.637293</td>\n",
       "      <td>-0.637186</td>\n",
       "      <td>0.264346</td>\n",
       "      <td>1.000000</td>\n",
       "      <td>0.214175</td>\n",
       "      <td>-0.121484</td>\n",
       "    </tr>\n",
       "    <tr>\n",
       "      <th>SV</th>\n",
       "      <td>0.749290</td>\n",
       "      <td>0.061381</td>\n",
       "      <td>-0.113342</td>\n",
       "      <td>-0.079814</td>\n",
       "      <td>0.269999</td>\n",
       "      <td>-0.210627</td>\n",
       "      <td>0.066984</td>\n",
       "      <td>0.187101</td>\n",
       "      <td>0.091394</td>\n",
       "      <td>-0.179741</td>\n",
       "      <td>-0.642734</td>\n",
       "      <td>-0.621875</td>\n",
       "      <td>-0.637755</td>\n",
       "      <td>-0.332806</td>\n",
       "      <td>0.214175</td>\n",
       "      <td>1.000000</td>\n",
       "      <td>-0.045539</td>\n",
       "    </tr>\n",
       "    <tr>\n",
       "      <th>E</th>\n",
       "      <td>-0.072858</td>\n",
       "      <td>0.043123</td>\n",
       "      <td>0.316297</td>\n",
       "      <td>-0.011945</td>\n",
       "      <td>0.145032</td>\n",
       "      <td>0.108610</td>\n",
       "      <td>-0.189790</td>\n",
       "      <td>-0.050114</td>\n",
       "      <td>0.142740</td>\n",
       "      <td>0.082702</td>\n",
       "      <td>0.195846</td>\n",
       "      <td>0.131556</td>\n",
       "      <td>0.108191</td>\n",
       "      <td>-0.123447</td>\n",
       "      <td>-0.121484</td>\n",
       "      <td>-0.045539</td>\n",
       "      <td>1.000000</td>\n",
       "    </tr>\n",
       "  </tbody>\n",
       "</table>\n",
       "</div>"
      ],
      "text/plain": [
       "            W         R        AB         H        2B        3B        HR  \\\n",
       "W    1.000000  0.390451 -0.085780 -0.018360  0.384886 -0.206737  0.245697   \n",
       "R    0.390451  1.000000  0.438022  0.433525  0.469293  0.134204  0.586894   \n",
       "AB  -0.085780  0.438022  1.000000  0.769159  0.490752  0.445604 -0.064653   \n",
       "H   -0.018360  0.433525  0.769159  1.000000  0.528016  0.582024 -0.218711   \n",
       "2B   0.384886  0.469293  0.490752  0.528016  1.000000  0.342419 -0.098695   \n",
       "3B  -0.206737  0.134204  0.445604  0.582024  0.342419  1.000000 -0.369299   \n",
       "HR   0.245697  0.586894 -0.064653 -0.218711 -0.098695 -0.369299  1.000000   \n",
       "BB   0.447513  0.258450 -0.137850 -0.222271  0.211243 -0.404852  0.336814   \n",
       "SO   0.156469  0.081158 -0.111243 -0.371861 -0.096772 -0.196586  0.479914   \n",
       "SB  -0.169503  0.075323  0.373674  0.417877  0.194308  0.483818 -0.166072   \n",
       "RA  -0.823176 -0.013858  0.315499  0.244606 -0.215196  0.312750 -0.092586   \n",
       "ER  -0.815308  0.007727  0.309146  0.280571 -0.224993  0.333731 -0.062094   \n",
       "ERA -0.826952 -0.009122  0.254872  0.256458 -0.248212  0.325883 -0.070756   \n",
       "CG   0.029594  0.101438 -0.078511  0.092577  0.244856 -0.003733  0.065978   \n",
       "SHO  0.497526 -0.085108 -0.198872 -0.135116  0.084060 -0.058896  0.005546   \n",
       "SV   0.749290  0.061381 -0.113342 -0.079814  0.269999 -0.210627  0.066984   \n",
       "E   -0.072858  0.043123  0.316297 -0.011945  0.145032  0.108610 -0.189790   \n",
       "\n",
       "           BB        SO        SB        RA        ER       ERA        CG  \\\n",
       "W    0.447513  0.156469 -0.169503 -0.823176 -0.815308 -0.826952  0.029594   \n",
       "R    0.258450  0.081158  0.075323 -0.013858  0.007727 -0.009122  0.101438   \n",
       "AB  -0.137850 -0.111243  0.373674  0.315499  0.309146  0.254872 -0.078511   \n",
       "H   -0.222271 -0.371861  0.417877  0.244606  0.280571  0.256458  0.092577   \n",
       "2B   0.211243 -0.096772  0.194308 -0.215196 -0.224993 -0.248212  0.244856   \n",
       "3B  -0.404852 -0.196586  0.483818  0.312750  0.333731  0.325883 -0.003733   \n",
       "HR   0.336814  0.479914 -0.166072 -0.092586 -0.062094 -0.070756  0.065978   \n",
       "BB   1.000000  0.315566 -0.117622 -0.425381 -0.455832 -0.465794  0.417437   \n",
       "SO   0.315566  1.000000  0.038188 -0.140570 -0.177655 -0.195362 -0.053075   \n",
       "SB  -0.117622  0.038188  1.000000  0.134315  0.146243  0.128848 -0.030708   \n",
       "RA  -0.425381 -0.140570  0.134315  1.000000  0.991286  0.986781 -0.005288   \n",
       "ER  -0.455832 -0.177655  0.146243  0.991286  1.000000  0.997261 -0.002865   \n",
       "ERA -0.465794 -0.195362  0.128848  0.986781  0.997261  1.000000  0.006038   \n",
       "CG   0.417437 -0.053075 -0.030708 -0.005288 -0.002865  0.006038  1.000000   \n",
       "SHO  0.473922  0.231230 -0.104602 -0.641579 -0.637293 -0.637186  0.264346   \n",
       "SV   0.187101  0.091394 -0.179741 -0.642734 -0.621875 -0.637755 -0.332806   \n",
       "E   -0.050114  0.142740  0.082702  0.195846  0.131556  0.108191 -0.123447   \n",
       "\n",
       "          SHO        SV         E  \n",
       "W    0.497526  0.749290 -0.072858  \n",
       "R   -0.085108  0.061381  0.043123  \n",
       "AB  -0.198872 -0.113342  0.316297  \n",
       "H   -0.135116 -0.079814 -0.011945  \n",
       "2B   0.084060  0.269999  0.145032  \n",
       "3B  -0.058896 -0.210627  0.108610  \n",
       "HR   0.005546  0.066984 -0.189790  \n",
       "BB   0.473922  0.187101 -0.050114  \n",
       "SO   0.231230  0.091394  0.142740  \n",
       "SB  -0.104602 -0.179741  0.082702  \n",
       "RA  -0.641579 -0.642734  0.195846  \n",
       "ER  -0.637293 -0.621875  0.131556  \n",
       "ERA -0.637186 -0.637755  0.108191  \n",
       "CG   0.264346 -0.332806 -0.123447  \n",
       "SHO  1.000000  0.214175 -0.121484  \n",
       "SV   0.214175  1.000000 -0.045539  \n",
       "E   -0.121484 -0.045539  1.000000  "
      ]
     },
     "execution_count": 9,
     "metadata": {},
     "output_type": "execute_result"
    }
   ],
   "source": [
    "df_baseball_final.corr()"
   ]
  },
  {
   "cell_type": "markdown",
   "metadata": {},
   "source": [
    "# Assign THe Values"
   ]
  },
  {
   "cell_type": "code",
   "execution_count": 10,
   "metadata": {
    "id": "aUhZ9nm4QwyL"
   },
   "outputs": [],
   "source": [
    "x = df_baseball_final.drop(['W'],axis=1)\n",
    "y = df_baseball_final['W']"
   ]
  },
  {
   "cell_type": "markdown",
   "metadata": {},
   "source": [
    "# Handling the Skewness"
   ]
  },
  {
   "cell_type": "code",
   "execution_count": 11,
   "metadata": {},
   "outputs": [],
   "source": [
    "from scipy.stats import skew"
   ]
  },
  {
   "cell_type": "code",
   "execution_count": 12,
   "metadata": {},
   "outputs": [
    {
     "name": "stdout",
     "output_type": "stream",
     "text": [
      "W\n",
      "0.04470076997798572\n"
     ]
    },
    {
     "data": {
      "image/png": "[encoded data removed]",
      "text/plain": [
       "<Figure size 432x288 with 1 Axes>"
      ]
     },
     "metadata": {
      "needs_background": "light"
     },
     "output_type": "display_data"
    },
    {
     "name": "stdout",
     "output_type": "stream",
     "text": [
      "R\n",
      "1.1398931660307043\n"
     ]
    },
    {
     "data": {
      "image/png": "[encoded data removed]",
      "text/plain": [
       "<Figure size 432x288 with 1 Axes>"
      ]
     },
     "metadata": {
      "needs_background": "light"
     },
     "output_type": "display_data"
    },
    {
     "name": "stdout",
     "output_type": "stream",
     "text": [
      "AB\n",
      "0.17413429032352498\n"
     ]
    },
    {
     "data": {
      "image/png": "[encoded data removed]",
      "text/plain": [
       "<Figure size 432x288 with 1 Axes>"
      ]
     },
     "metadata": {
      "needs_background": "light"
     },
     "output_type": "display_data"
    },
    {
     "name": "stdout",
     "output_type": "stream",
     "text": [
      "H\n",
      "0.6362644174348592\n"
     ]
    },
    {
     "data": {
      "image/png": "[encoded data removed]",
      "text/plain": [
       "<Figure size 432x288 with 1 Axes>"
      ]
     },
     "metadata": {
      "needs_background": "light"
     },
     "output_type": "display_data"
    },
    {
     "name": "stdout",
     "output_type": "stream",
     "text": [
      "2B\n",
      "-0.2189534077067715\n"
     ]
    },
    {
     "data": {
      "image/png": "[encoded data removed]",
      "text/plain": [
       "<Figure size 432x288 with 1 Axes>"
      ]
     },
     "metadata": {
      "needs_background": "light"
     },
     "output_type": "display_data"
    },
    {
     "name": "stdout",
     "output_type": "stream",
     "text": [
      "3B\n",
      "0.12293523975827839\n"
     ]
    },
    {
     "data": {
      "image/png": "[encoded data removed]",
      "text/plain": [
       "<Figure size 432x288 with 1 Axes>"
      ]
     },
     "metadata": {
      "needs_background": "light"
     },
     "output_type": "display_data"
    },
    {
     "name": "stdout",
     "output_type": "stream",
     "text": [
      "HR\n",
      "0.49025146140832154\n"
     ]
    },
    {
     "data": {
      "image/png": "[encoded data removed]",
      "text/plain": [
       "<Figure size 432x288 with 1 Axes>"
      ]
     },
     "metadata": {
      "needs_background": "light"
     },
     "output_type": "display_data"
    },
    {
     "name": "stdout",
     "output_type": "stream",
     "text": [
      "BB\n",
      "0.15046085271433388\n"
     ]
    },
    {
     "data": {
      "image/png": "[encoded data removed]",
      "text/plain": [
       "<Figure size 432x288 with 1 Axes>"
      ]
     },
     "metadata": {
      "needs_background": "light"
     },
     "output_type": "display_data"
    },
    {
     "name": "stdout",
     "output_type": "stream",
     "text": [
      "SO\n",
      "-0.14815122992357777\n"
     ]
    },
    {
     "data": {
      "image/png": "[encoded data removed]",
      "text/plain": [
       "<Figure size 432x288 with 1 Axes>"
      ]
     },
     "metadata": {
      "needs_background": "light"
     },
     "output_type": "display_data"
    },
    {
     "name": "stdout",
     "output_type": "stream",
     "text": [
      "SB\n",
      "0.4555569751737513\n"
     ]
    },
    {
     "data": {
      "image/png": "[encoded data removed]",
      "text/plain": [
       "<Figure size 432x288 with 1 Axes>"
      ]
     },
     "metadata": {
      "needs_background": "light"
     },
     "output_type": "display_data"
    },
    {
     "name": "stdout",
     "output_type": "stream",
     "text": [
      "RA\n",
      "0.04341475534967941\n"
     ]
    },
    {
     "data": {
      "image/png": "[encoded data removed]",
      "text/plain": [
       "<Figure size 432x288 with 1 Axes>"
      ]
     },
     "metadata": {
      "needs_background": "light"
     },
     "output_type": "display_data"
    },
    {
     "name": "stdout",
     "output_type": "stream",
     "text": [
      "ER\n",
      "0.055732557686200515\n"
     ]
    },
    {
     "data": {
      "image/png": "[encoded data removed]",
      "text/plain": [
       "<Figure size 432x288 with 1 Axes>"
      ]
     },
     "metadata": {
      "needs_background": "light"
     },
     "output_type": "display_data"
    },
    {
     "name": "stdout",
     "output_type": "stream",
     "text": [
      "ERA\n",
      "0.0506268488741678\n"
     ]
    },
    {
     "data": {
      "image/png": "[encoded data removed]",
      "text/plain": [
       "<Figure size 432x288 with 1 Axes>"
      ]
     },
     "metadata": {
      "needs_background": "light"
     },
     "output_type": "display_data"
    },
    {
     "name": "stdout",
     "output_type": "stream",
     "text": [
      "CG\n",
      "0.6994790420153237\n"
     ]
    },
    {
     "data": {
      "image/png": "[encoded data removed]",
      "text/plain": [
       "<Figure size 432x288 with 1 Axes>"
      ]
     },
     "metadata": {
      "needs_background": "light"
     },
     "output_type": "display_data"
    },
    {
     "name": "stdout",
     "output_type": "stream",
     "text": [
      "SHO\n",
      "0.5370985776239573\n"
     ]
    },
    {
     "data": {
      "image/png": "[encoded data removed]",
      "text/plain": [
       "<Figure size 432x288 with 1 Axes>"
      ]
     },
     "metadata": {
      "needs_background": "light"
     },
     "output_type": "display_data"
    },
    {
     "name": "stdout",
     "output_type": "stream",
     "text": [
      "SV\n",
      "0.6241798071870271\n"
     ]
    },
    {
     "data": {
      "image/png": "[encoded data removed]",
      "text/plain": [
       "<Figure size 432x288 with 1 Axes>"
      ]
     },
     "metadata": {
      "needs_background": "light"
     },
     "output_type": "display_data"
    },
    {
     "name": "stdout",
     "output_type": "stream",
     "text": [
      "E\n",
      "0.8449922672006391\n"
     ]
    },
    {
     "data": {
      "image/png": "[encoded data removed]",
      "text/plain": [
       "<Figure size 432x288 with 1 Axes>"
      ]
     },
     "metadata": {
      "needs_background": "light"
     },
     "output_type": "display_data"
    }
   ],
   "source": [
    "for col in df:\n",
    "    print(col)\n",
    "    print(skew(df[col]))\n",
    "    \n",
    "    plt.figure()\n",
    "    sns.distplot(df[col])\n",
    "    plt.show()"
   ]
  },
  {
   "cell_type": "markdown",
   "metadata": {},
   "source": [
    "# Define the Function For R2_Score"
   ]
  },
  {
   "cell_type": "code",
   "execution_count": 13,
   "metadata": {
    "id": "TomUAlcdQwyM"
   },
   "outputs": [],
   "source": [
    "from sklearn.model_selection import train_test_split\n",
    "from sklearn.metrics import mean_absolute_error\n",
    "from sklearn.metrics import mean_squared_error\n",
    "from sklearn.metrics import r2_score\n",
    "\n",
    "def maxr2_score(regr,x,y):\n",
    "    max_r_score=0\n",
    "    for r_state in range(42,101):\n",
    "        X_train, X_test, y_train, y_test = train_test_split(x, y,random_state= r_state,test_size=0.20)\n",
    "    \n",
    "        regr.fit(X_train,y_train)\n",
    "\n",
    "        y_pred = regr.predict(X_test)\n",
    "        r2_scr=r2_score(y_test,y_pred)\n",
    "        print(\"r2_score corresponding to random state:\",r_state,\" is:\",r2_scr)\n",
    "        if r2_scr>max_r_score:\n",
    "            max_r_score=r2_scr\n",
    "            final_r_state=r_state\n",
    "    print()\n",
    "    print()\n",
    "    print(\"max r2 score corresponding to \", final_r_state,\" is \", max_r_score)\n",
    "    return final_r_state"
   ]
  },
  {
   "cell_type": "markdown",
   "metadata": {
    "id": "k07OVqYzRkiu"
   },
   "source": [
    "# 1.LINEAR REGRESSION"
   ]
  },
  {
   "cell_type": "code",
   "execution_count": 14,
   "metadata": {
    "id": "rp5FAcGZQwyN",
    "outputId": "7032b853-60a8-427b-acbf-781b88492499",
    "scrolled": false
   },
   "outputs": [
    {
     "name": "stdout",
     "output_type": "stream",
     "text": [
      "r2_score corresponding to random state: 42  is: 0.25928395352760436\n",
      "r2_score corresponding to random state: 43  is: -1.6579669952554372\n",
      "r2_score corresponding to random state: 44  is: 0.45588267886542544\n",
      "r2_score corresponding to random state: 45  is: 0.3201273442339354\n",
      "r2_score corresponding to random state: 46  is: 0.6086791076000388\n",
      "r2_score corresponding to random state: 47  is: 0.1275223403814828\n",
      "r2_score corresponding to random state: 48  is: -0.1483168175376921\n",
      "r2_score corresponding to random state: 49  is: -0.35525213965404867\n",
      "r2_score corresponding to random state: 50  is: 0.8402586950388348\n",
      "r2_score corresponding to random state: 51  is: 0.6782092587437775\n",
      "r2_score corresponding to random state: 52  is: 0.38592101160346526\n",
      "r2_score corresponding to random state: 53  is: 0.48815713664034177\n",
      "r2_score corresponding to random state: 54  is: 0.08424908151314392\n",
      "r2_score corresponding to random state: 55  is: 0.7900101384277864\n",
      "r2_score corresponding to random state: 56  is: 0.6589140348288514\n",
      "r2_score corresponding to random state: 57  is: 0.6079747434400495\n",
      "r2_score corresponding to random state: 58  is: 0.5510265209085994\n",
      "r2_score corresponding to random state: 59  is: 0.6634093644389767\n",
      "r2_score corresponding to random state: 60  is: 0.08185322307411302\n",
      "r2_score corresponding to random state: 61  is: 0.6581517293977959\n",
      "r2_score corresponding to random state: 62  is: 0.4811072849368011\n",
      "r2_score corresponding to random state: 63  is: 0.6389160925748394\n",
      "r2_score corresponding to random state: 64  is: 0.8556290952095571\n",
      "r2_score corresponding to random state: 65  is: 0.3979366711628579\n",
      "r2_score corresponding to random state: 66  is: 0.649849597500421\n",
      "r2_score corresponding to random state: 67  is: 0.8157368204801645\n",
      "r2_score corresponding to random state: 68  is: -0.08171472137612024\n",
      "r2_score corresponding to random state: 69  is: 0.4717327998172952\n",
      "r2_score corresponding to random state: 70  is: -0.19345477116758736\n",
      "r2_score corresponding to random state: 71  is: -4.526975628898711\n",
      "r2_score corresponding to random state: 72  is: -0.440458945027675\n",
      "r2_score corresponding to random state: 73  is: 0.767558909749313\n",
      "r2_score corresponding to random state: 74  is: -0.15652276267268483\n",
      "r2_score corresponding to random state: 75  is: 0.06853971821236626\n",
      "r2_score corresponding to random state: 76  is: 0.5301458735053239\n",
      "r2_score corresponding to random state: 77  is: 0.687282825851729\n",
      "r2_score corresponding to random state: 78  is: 0.4609816397856037\n",
      "r2_score corresponding to random state: 79  is: 0.5525572590656399\n",
      "r2_score corresponding to random state: 80  is: 0.5073058320230435\n",
      "r2_score corresponding to random state: 81  is: 0.7527407964239432\n",
      "r2_score corresponding to random state: 82  is: 0.5262865332041264\n",
      "r2_score corresponding to random state: 83  is: 0.10359164363865614\n",
      "r2_score corresponding to random state: 84  is: 0.403886276780685\n",
      "r2_score corresponding to random state: 85  is: 0.2479510555217126\n",
      "r2_score corresponding to random state: 86  is: -0.9931046091289326\n",
      "r2_score corresponding to random state: 87  is: 0.4762820684414396\n",
      "r2_score corresponding to random state: 88  is: -2.493371937894576\n",
      "r2_score corresponding to random state: 89  is: 0.6047171241049837\n",
      "r2_score corresponding to random state: 90  is: 0.7715526011050392\n",
      "r2_score corresponding to random state: 91  is: 0.5187820140376733\n",
      "r2_score corresponding to random state: 92  is: 0.433088388422845\n",
      "r2_score corresponding to random state: 93  is: 0.6636290947263869\n",
      "r2_score corresponding to random state: 94  is: 0.6078565555491569\n",
      "r2_score corresponding to random state: 95  is: 0.6344525313353684\n",
      "r2_score corresponding to random state: 96  is: -0.3900254834826562\n",
      "r2_score corresponding to random state: 97  is: 0.7342022365524196\n",
      "r2_score corresponding to random state: 98  is: -0.6109960154990388\n",
      "r2_score corresponding to random state: 99  is: 0.8458464532843892\n",
      "r2_score corresponding to random state: 100  is: 0.46708966601602175\n",
      "\n",
      "\n",
      "max r2 score corresponding to  64  is  0.8556290952095571\n"
     ]
    }
   ],
   "source": [
    "#ltes check the good fit for linear Regression problem\n",
    "from sklearn.linear_model import LinearRegression\n",
    "lreg = LinearRegression()\n",
    "r_state = maxr2_score(lreg,x,y)"
   ]
  },
  {
   "cell_type": "markdown",
   "metadata": {},
   "source": [
    "# Cross Validation"
   ]
  },
  {
   "cell_type": "code",
   "execution_count": 15,
   "metadata": {
    "id": "Flr_S3gUQwyO",
    "outputId": "bf5a2343-900c-4cfb-c2bb-f612d4e53e6a",
    "scrolled": true
   },
   "outputs": [
    {
     "data": {
      "text/plain": [
       "array([ 0.7557458 , -0.67830114,  0.66816769, -0.25396453, -0.30350451])"
      ]
     },
     "execution_count": 15,
     "metadata": {},
     "output_type": "execute_result"
    }
   ],
   "source": [
    "#lets do the cross validation\n",
    "from sklearn import linear_model\n",
    "from sklearn.model_selection import cross_val_score\n",
    "cross_val_score(linear_model.LinearRegression(),x,y,cv=5,scoring=\"r2\")\n",
    "#the below cross validation score is less and it shows that we further need to improve our model using more data"
   ]
  },
  {
   "cell_type": "markdown",
   "metadata": {
    "id": "7Csi7XRJQwyR"
   },
   "source": [
    "# 2.KNeighbour using GridSearchCV"
   ]
  },
  {
   "cell_type": "code",
   "execution_count": 16,
   "metadata": {
    "id": "6qEKRl4YQwyR",
    "outputId": "eb76a099-e1b3-4793-ebe7-6ec28b66c1fc"
   },
   "outputs": [
    {
     "data": {
      "text/plain": [
       "{'n_neighbors': 3}"
      ]
     },
     "execution_count": 16,
     "metadata": {},
     "output_type": "execute_result"
    }
   ],
   "source": [
    "from sklearn.model_selection import GridSearchCV\n",
    "from sklearn.neighbors import KNeighborsRegressor\n",
    "\n",
    "neighbors={\"n_neighbors\":range(1,25)}\n",
    "knr = KNeighborsRegressor()\n",
    "gknr = GridSearchCV(knr,neighbors,cv=10)\n",
    "gknr.fit(x,y)\n",
    "gknr.best_params_"
   ]
  },
  {
   "cell_type": "code",
   "execution_count": 17,
   "metadata": {
    "id": "-_CR-TL5QwyS",
    "outputId": "2bd1aea2-121c-4ada-e4f4-e5ac4271dfdc",
    "scrolled": false
   },
   "outputs": [
    {
     "name": "stdout",
     "output_type": "stream",
     "text": [
      "r2_score corresponding to random state: 42  is: 0.3504421376393696\n",
      "r2_score corresponding to random state: 43  is: -0.21232002915983195\n",
      "r2_score corresponding to random state: 44  is: 0.29333333333333345\n",
      "r2_score corresponding to random state: 45  is: -0.9073405535499397\n",
      "r2_score corresponding to random state: 46  is: 0.41160347190497926\n",
      "r2_score corresponding to random state: 47  is: 0.6591842723004694\n",
      "r2_score corresponding to random state: 48  is: 0.3471295060080104\n",
      "r2_score corresponding to random state: 49  is: -0.9041472451296759\n",
      "r2_score corresponding to random state: 50  is: 0.23921911421911468\n",
      "r2_score corresponding to random state: 51  is: 0.5493020658849803\n",
      "r2_score corresponding to random state: 52  is: 0.43494720063757686\n",
      "r2_score corresponding to random state: 53  is: 0.1443223443223447\n",
      "r2_score corresponding to random state: 54  is: 0.316132858837486\n",
      "r2_score corresponding to random state: 55  is: -0.09482212938346612\n",
      "r2_score corresponding to random state: 56  is: 0.23439129786917012\n",
      "r2_score corresponding to random state: 57  is: 0.3184922511163647\n",
      "r2_score corresponding to random state: 58  is: -0.0029276453366784416\n",
      "r2_score corresponding to random state: 59  is: 0.5670995670995667\n",
      "r2_score corresponding to random state: 60  is: 0.42281751686140423\n",
      "r2_score corresponding to random state: 61  is: 0.49739916432165077\n",
      "r2_score corresponding to random state: 62  is: 0.12405774881819343\n",
      "r2_score corresponding to random state: 63  is: 0.3113464447806352\n",
      "r2_score corresponding to random state: 64  is: 0.45167934093789586\n",
      "r2_score corresponding to random state: 65  is: 0.08935621625976986\n",
      "r2_score corresponding to random state: 66  is: -0.3608414239482196\n",
      "r2_score corresponding to random state: 67  is: 0.049907791609036134\n",
      "r2_score corresponding to random state: 68  is: -0.42860330209727815\n",
      "r2_score corresponding to random state: 69  is: 0.0535154633079058\n",
      "r2_score corresponding to random state: 70  is: 0.17634408602150553\n",
      "r2_score corresponding to random state: 71  is: 0.32137518684603894\n",
      "r2_score corresponding to random state: 72  is: -0.19975147561354412\n",
      "r2_score corresponding to random state: 73  is: 0.30045280390108\n",
      "r2_score corresponding to random state: 74  is: -3.1911262798634805\n",
      "r2_score corresponding to random state: 75  is: 0.29756766015758773\n",
      "r2_score corresponding to random state: 76  is: 0.4897277863379558\n",
      "r2_score corresponding to random state: 77  is: -0.07936507936507953\n",
      "r2_score corresponding to random state: 78  is: 0.32265242545616346\n",
      "r2_score corresponding to random state: 79  is: -0.12268468075833527\n",
      "r2_score corresponding to random state: 80  is: 0.24789262623782649\n",
      "r2_score corresponding to random state: 81  is: 0.3757461514294692\n",
      "r2_score corresponding to random state: 82  is: 0.7576908469426511\n",
      "r2_score corresponding to random state: 83  is: 0.11923454367026531\n",
      "r2_score corresponding to random state: 84  is: 0.09465478841870822\n",
      "r2_score corresponding to random state: 85  is: 0.4381910264640845\n",
      "r2_score corresponding to random state: 86  is: -0.8093862815884472\n",
      "r2_score corresponding to random state: 87  is: -0.1818684355997786\n",
      "r2_score corresponding to random state: 88  is: 0.3556820577693439\n",
      "r2_score corresponding to random state: 89  is: 0.25887978142076473\n",
      "r2_score corresponding to random state: 90  is: 0.06906367041198525\n",
      "r2_score corresponding to random state: 91  is: -0.1399617908464157\n",
      "r2_score corresponding to random state: 92  is: 0.0574358974358975\n",
      "r2_score corresponding to random state: 93  is: 0.6585570469798656\n",
      "r2_score corresponding to random state: 94  is: -0.15924551638837348\n",
      "r2_score corresponding to random state: 95  is: 0.408197569175071\n",
      "r2_score corresponding to random state: 96  is: 0.051831992850759456\n",
      "r2_score corresponding to random state: 97  is: 0.6265827889345915\n",
      "r2_score corresponding to random state: 98  is: -0.09966638865721467\n",
      "r2_score corresponding to random state: 99  is: 0.6545277980092256\n",
      "r2_score corresponding to random state: 100  is: -1.3795130142737193\n",
      "\n",
      "\n",
      "max r2 score corresponding to  82  is  0.7576908469426511\n"
     ]
    }
   ],
   "source": [
    "#Check the good fit\n",
    "knr = KNeighborsRegressor(n_neighbors=3)\n",
    "r_state = maxr2_score(knr,x,y)"
   ]
  },
  {
   "cell_type": "markdown",
   "metadata": {},
   "source": [
    "# Cross Validation"
   ]
  },
  {
   "cell_type": "code",
   "execution_count": 18,
   "metadata": {
    "id": "Flr_S3gUQwyO",
    "outputId": "bf5a2343-900c-4cfb-c2bb-f612d4e53e6a",
    "scrolled": true
   },
   "outputs": [
    {
     "data": {
      "text/plain": [
       "array([-0.97277273, -2.45210526,  0.42096194,  0.16432787,  0.54080189])"
      ]
     },
     "execution_count": 18,
     "metadata": {},
     "output_type": "execute_result"
    }
   ],
   "source": [
    "#lets do the cross validation\n",
    "from sklearn import linear_model\n",
    "from sklearn.model_selection import cross_val_score\n",
    "cross_val_score(KNeighborsRegressor(),x,y,cv=5,scoring=\"r2\")\n",
    "#the below cross validation score is less and it shows that we further need to improve our model using more data"
   ]
  },
  {
   "cell_type": "markdown",
   "metadata": {
    "id": "XBauzl7LQwyU"
   },
   "source": [
    "# 3.DECISION TREE"
   ]
  },
  {
   "cell_type": "code",
   "execution_count": 19,
   "metadata": {
    "id": "GTdDBgC5QwyU",
    "outputId": "0db13d43-b0b7-4cfd-9294-4fa361f5bed2",
    "scrolled": false
   },
   "outputs": [
    {
     "name": "stdout",
     "output_type": "stream",
     "text": [
      "r2_score corresponding to random state: 42  is: -0.11937716262975773\n",
      "r2_score corresponding to random state: 43  is: -1.414434117003827\n",
      "r2_score corresponding to random state: 44  is: -0.036666666666666625\n",
      "r2_score corresponding to random state: 45  is: -0.5189530685920578\n",
      "r2_score corresponding to random state: 46  is: 0.7560529922338968\n",
      "r2_score corresponding to random state: 47  is: 0.6659330985915493\n",
      "r2_score corresponding to random state: 48  is: 0.4552736982643525\n",
      "r2_score corresponding to random state: 49  is: -0.966296163499462\n",
      "r2_score corresponding to random state: 50  is: -1.352272727272727\n",
      "r2_score corresponding to random state: 51  is: -0.4452261306532663\n",
      "r2_score corresponding to random state: 52  is: -0.0902570233114166\n",
      "r2_score corresponding to random state: 53  is: 0.2445839874411303\n",
      "r2_score corresponding to random state: 54  is: -0.5106761565836297\n",
      "r2_score corresponding to random state: 55  is: 0.16824914546145076\n",
      "r2_score corresponding to random state: 56  is: -0.15601251676352268\n",
      "r2_score corresponding to random state: 57  is: -0.09692671394799057\n",
      "r2_score corresponding to random state: 58  is: -0.266624843161857\n",
      "r2_score corresponding to random state: 59  is: 0.13350649350649346\n",
      "r2_score corresponding to random state: 60  is: 0.17754345967512097\n",
      "r2_score corresponding to random state: 61  is: -0.008442056792018482\n",
      "r2_score corresponding to random state: 62  is: -0.06247604446147936\n",
      "r2_score corresponding to random state: 63  is: 0.23751891074130094\n",
      "r2_score corresponding to random state: 64  is: -1.1387832699619769\n",
      "r2_score corresponding to random state: 65  is: 0.7635968092820885\n",
      "r2_score corresponding to random state: 66  is: -0.7766990291262137\n",
      "r2_score corresponding to random state: 67  is: 0.6141078838174274\n",
      "r2_score corresponding to random state: 68  is: -0.5401606425702812\n",
      "r2_score corresponding to random state: 69  is: -0.6583288983501863\n",
      "r2_score corresponding to random state: 70  is: -0.06209677419354831\n",
      "r2_score corresponding to random state: 71  is: -2.68609865470852\n",
      "r2_score corresponding to random state: 72  is: -5.458527493010251\n",
      "r2_score corresponding to random state: 73  is: 0.3705329153605016\n",
      "r2_score corresponding to random state: 74  is: -0.30034129692832745\n",
      "r2_score corresponding to random state: 75  is: -0.1741007194244606\n",
      "r2_score corresponding to random state: 76  is: 0.6475346687211094\n",
      "r2_score corresponding to random state: 77  is: -0.9791666666666667\n",
      "r2_score corresponding to random state: 78  is: -0.36782376502002667\n",
      "r2_score corresponding to random state: 79  is: 0.34626280235345386\n",
      "r2_score corresponding to random state: 80  is: 0.43579671004173826\n",
      "r2_score corresponding to random state: 81  is: 0.11215834118755885\n",
      "r2_score corresponding to random state: 82  is: 0.19559437903532084\n",
      "r2_score corresponding to random state: 83  is: 0.40088321884200195\n",
      "r2_score corresponding to random state: 84  is: 0.011135857461024412\n",
      "r2_score corresponding to random state: 85  is: 0.5852771239032741\n",
      "r2_score corresponding to random state: 86  is: -1.3783393501805055\n",
      "r2_score corresponding to random state: 87  is: 0.31343283582089554\n",
      "r2_score corresponding to random state: 88  is: -0.5218216318785578\n",
      "r2_score corresponding to random state: 89  is: -0.19262295081967218\n",
      "r2_score corresponding to random state: 90  is: 0.5253932584269663\n",
      "r2_score corresponding to random state: 91  is: -0.48467480687764763\n",
      "r2_score corresponding to random state: 92  is: -0.7307692307692306\n",
      "r2_score corresponding to random state: 93  is: 0.08640939597315445\n",
      "r2_score corresponding to random state: 94  is: 0.8608534322820037\n",
      "r2_score corresponding to random state: 95  is: 0.6322730799069045\n",
      "r2_score corresponding to random state: 96  is: -0.08042895442359255\n",
      "r2_score corresponding to random state: 97  is: 0.6965884345511735\n",
      "r2_score corresponding to random state: 98  is: -0.916597164303586\n",
      "r2_score corresponding to random state: 99  is: 0.7978878368536052\n",
      "r2_score corresponding to random state: 100  is: -0.22418136020151147\n",
      "\n",
      "\n",
      "max r2 score corresponding to  94  is  0.8608534322820037\n"
     ]
    }
   ],
   "source": [
    "from sklearn.tree import DecisionTreeRegressor\n",
    "dt = DecisionTreeRegressor()\n",
    "r_state = maxr2_score(dt,x,y)"
   ]
  },
  {
   "cell_type": "markdown",
   "metadata": {},
   "source": [
    "# Cross Validation"
   ]
  },
  {
   "cell_type": "code",
   "execution_count": 20,
   "metadata": {
    "id": "Flr_S3gUQwyO",
    "outputId": "bf5a2343-900c-4cfb-c2bb-f612d4e53e6a",
    "scrolled": true
   },
   "outputs": [
    {
     "data": {
      "text/plain": [
       "array([ -1.93181818, -12.06578947,   0.2112087 ,   0.30327869,\n",
       "         0.53714623])"
      ]
     },
     "execution_count": 20,
     "metadata": {},
     "output_type": "execute_result"
    }
   ],
   "source": [
    "#lets do the cross validation\n",
    "from sklearn import linear_model\n",
    "from sklearn.model_selection import cross_val_score\n",
    "cross_val_score(DecisionTreeRegressor(),x,y,cv=5,scoring=\"r2\")\n",
    "#the below cross validation score is less and it shows that we further need to improve our model using more data"
   ]
  },
  {
   "cell_type": "markdown",
   "metadata": {
    "id": "x1IQlzi2QwyW"
   },
   "source": [
    "# 4.RANDOM FOREST"
   ]
  },
  {
   "cell_type": "code",
   "execution_count": 21,
   "metadata": {
    "id": "RBHWB7ppQwyW",
    "outputId": "75f5ebcf-0297-48b6-f537-26cd3b998d48",
    "scrolled": false
   },
   "outputs": [
    {
     "name": "stdout",
     "output_type": "stream",
     "text": [
      "r2_score corresponding to random state: 42  is: 0.54283062283737\n",
      "r2_score corresponding to random state: 43  is: 0.11008780754510639\n",
      "r2_score corresponding to random state: 44  is: 0.5897573333333328\n",
      "r2_score corresponding to random state: 45  is: -0.04785072202166041\n",
      "r2_score corresponding to random state: 46  is: 0.79767501142074\n",
      "r2_score corresponding to random state: 47  is: 0.7077576144366198\n",
      "r2_score corresponding to random state: 48  is: 0.7463564085447261\n",
      "r2_score corresponding to random state: 49  is: -0.6496168519182501\n",
      "r2_score corresponding to random state: 50  is: 0.2877181818181823\n",
      "r2_score corresponding to random state: 51  is: 0.5594675376884426\n",
      "r2_score corresponding to random state: 52  is: 0.512490854751942\n",
      "r2_score corresponding to random state: 53  is: 0.6558068445839875\n",
      "r2_score corresponding to random state: 54  is: 0.5514727758007116\n",
      "r2_score corresponding to random state: 55  is: 0.5719174325864036\n",
      "r2_score corresponding to random state: 56  is: 0.4010168082253013\n",
      "r2_score corresponding to random state: 57  is: 0.589291016548463\n",
      "r2_score corresponding to random state: 58  is: 0.14700589711417844\n",
      "r2_score corresponding to random state: 59  is: 0.36775958441558443\n",
      "r2_score corresponding to random state: 60  is: 0.42139772014819066\n",
      "r2_score corresponding to random state: 61  is: 0.6287941673062166\n",
      "r2_score corresponding to random state: 62  is: 0.46976397087006516\n",
      "r2_score corresponding to random state: 63  is: 0.32356708018154323\n",
      "r2_score corresponding to random state: 64  is: 0.6929641159695819\n",
      "r2_score corresponding to random state: 65  is: 0.668472371283539\n",
      "r2_score corresponding to random state: 66  is: -0.12601941747572853\n",
      "r2_score corresponding to random state: 67  is: 0.6442542531120332\n",
      "r2_score corresponding to random state: 68  is: 0.5664588353413655\n",
      "r2_score corresponding to random state: 69  is: 0.4344232038318254\n",
      "r2_score corresponding to random state: 70  is: 0.6218802419354836\n",
      "r2_score corresponding to random state: 71  is: -0.5594295964125562\n",
      "r2_score corresponding to random state: 72  is: -2.0322797763280533\n",
      "r2_score corresponding to random state: 73  is: 0.6723799373040751\n",
      "r2_score corresponding to random state: 74  is: -0.1844609215017068\n",
      "r2_score corresponding to random state: 75  is: 0.6407759917780063\n",
      "r2_score corresponding to random state: 76  is: 0.5879864021571648\n",
      "r2_score corresponding to random state: 77  is: 0.044247023809524055\n",
      "r2_score corresponding to random state: 78  is: 0.7359397196261681\n",
      "r2_score corresponding to random state: 79  is: 0.6208010459795159\n",
      "r2_score corresponding to random state: 80  is: 0.539315344954579\n",
      "r2_score corresponding to random state: 81  is: 0.566252309142318\n",
      "r2_score corresponding to random state: 82  is: 0.6015931636916066\n",
      "r2_score corresponding to random state: 83  is: 0.7121380765456329\n",
      "r2_score corresponding to random state: 84  is: 0.7786304008908684\n",
      "r2_score corresponding to random state: 85  is: 0.5582106141664885\n",
      "r2_score corresponding to random state: 86  is: 0.5820746570397104\n",
      "r2_score corresponding to random state: 87  is: 0.5424633499170811\n",
      "r2_score corresponding to random state: 88  is: 0.3750356736242886\n",
      "r2_score corresponding to random state: 89  is: 0.12712377049180368\n",
      "r2_score corresponding to random state: 90  is: 0.6744928539325845\n",
      "r2_score corresponding to random state: 91  is: 0.41526389234986305\n",
      "r2_score corresponding to random state: 92  is: 0.5115171538461541\n",
      "r2_score corresponding to random state: 93  is: 0.624651677852349\n",
      "r2_score corresponding to random state: 94  is: 0.8074937847866422\n",
      "r2_score corresponding to random state: 95  is: 0.6080604732350663\n",
      "r2_score corresponding to random state: 96  is: 0.462342761394102\n",
      "r2_score corresponding to random state: 97  is: 0.636013259133801\n",
      "r2_score corresponding to random state: 98  is: 0.11316584653878281\n",
      "r2_score corresponding to random state: 99  is: 0.6919652221412962\n",
      "r2_score corresponding to random state: 100  is: 0.11672080604533974\n",
      "\n",
      "\n",
      "max r2 score corresponding to  94  is  0.8074937847866422\n"
     ]
    }
   ],
   "source": [
    "from sklearn.ensemble import RandomForestRegressor\n",
    "rtr = RandomForestRegressor()\n",
    "r_state = maxr2_score(rtr,x,y)"
   ]
  },
  {
   "cell_type": "markdown",
   "metadata": {},
   "source": [
    "# Cross Validation"
   ]
  },
  {
   "cell_type": "code",
   "execution_count": 22,
   "metadata": {
    "id": "Flr_S3gUQwyO",
    "outputId": "bf5a2343-900c-4cfb-c2bb-f612d4e53e6a",
    "scrolled": true
   },
   "outputs": [
    {
     "data": {
      "text/plain": [
       "array([ 0.31056625, -5.68403158,  0.49340075,  0.47944672,  0.844301  ])"
      ]
     },
     "execution_count": 22,
     "metadata": {},
     "output_type": "execute_result"
    }
   ],
   "source": [
    "#lets do the cross validation\n",
    "from sklearn import linear_model\n",
    "from sklearn.model_selection import cross_val_score\n",
    "cross_val_score(RandomForestRegressor(),x,y,cv=5,scoring=\"r2\")\n",
    "#the below cross validation score is less and it shows that we further need to improve our model using more data"
   ]
  },
  {
   "cell_type": "markdown",
   "metadata": {
    "id": "7qJ9IztEQwyX"
   },
   "source": [
    "# 5.LASSO "
   ]
  },
  {
   "cell_type": "code",
   "execution_count": 23,
   "metadata": {
    "id": "jbFBRohIQwyY",
    "outputId": "3418ffac-1570-414a-f349-5c2e9b39d295"
   },
   "outputs": [
    {
     "name": "stdout",
     "output_type": "stream",
     "text": [
      "r2_score corresponding to random state: 42  is: 0.6660236239292499\n",
      "r2_score corresponding to random state: 43  is: -0.6024200471986116\n",
      "r2_score corresponding to random state: 44  is: 0.6770041455510816\n",
      "r2_score corresponding to random state: 45  is: 0.600789015950701\n",
      "r2_score corresponding to random state: 46  is: 0.8373509681878011\n",
      "r2_score corresponding to random state: 47  is: 0.8611338318694418\n",
      "r2_score corresponding to random state: 48  is: 0.6724910187847439\n",
      "r2_score corresponding to random state: 49  is: 0.1039322601931143\n",
      "r2_score corresponding to random state: 50  is: 0.7680706541130009\n",
      "r2_score corresponding to random state: 51  is: 0.6585430382337836\n",
      "r2_score corresponding to random state: 52  is: 0.4269846881298288\n",
      "r2_score corresponding to random state: 53  is: 0.7411022720639486\n",
      "r2_score corresponding to random state: 54  is: 0.27064267952548315\n",
      "r2_score corresponding to random state: 55  is: 0.40499013915685356\n",
      "r2_score corresponding to random state: 56  is: 0.4753199696160335\n",
      "r2_score corresponding to random state: 57  is: 0.7196860712823479\n",
      "r2_score corresponding to random state: 58  is: 0.6015985241694345\n",
      "r2_score corresponding to random state: 59  is: 0.7131985802722987\n",
      "r2_score corresponding to random state: 60  is: 0.45832939806062356\n",
      "r2_score corresponding to random state: 61  is: 0.5084238212208205\n",
      "r2_score corresponding to random state: 62  is: 0.5078135265325865\n",
      "r2_score corresponding to random state: 63  is: 0.49956748762938097\n",
      "r2_score corresponding to random state: 64  is: 0.7673560860604264\n",
      "r2_score corresponding to random state: 65  is: 0.5750189464642338\n",
      "r2_score corresponding to random state: 66  is: 0.3736065174518124\n",
      "r2_score corresponding to random state: 67  is: 0.8448588769022902\n",
      "r2_score corresponding to random state: 68  is: 0.7678832678735011\n",
      "r2_score corresponding to random state: 69  is: 0.7700361449033638\n",
      "r2_score corresponding to random state: 70  is: 0.5416361142028767\n",
      "r2_score corresponding to random state: 71  is: -1.127483547365025\n",
      "r2_score corresponding to random state: 72  is: 0.20435511793604721\n",
      "r2_score corresponding to random state: 73  is: 0.6863181408817451\n",
      "r2_score corresponding to random state: 74  is: -1.2153500210197703\n",
      "r2_score corresponding to random state: 75  is: 0.8251187730586264\n",
      "r2_score corresponding to random state: 76  is: 0.5676794738088032\n",
      "r2_score corresponding to random state: 77  is: 0.2731396759032718\n",
      "r2_score corresponding to random state: 78  is: 0.7305347886163774\n",
      "r2_score corresponding to random state: 79  is: 0.6795450552020948\n",
      "r2_score corresponding to random state: 80  is: 0.6678151838233065\n",
      "r2_score corresponding to random state: 81  is: 0.5663985095474058\n",
      "r2_score corresponding to random state: 82  is: 0.6850258486519947\n",
      "r2_score corresponding to random state: 83  is: 0.7129314928151362\n",
      "r2_score corresponding to random state: 84  is: 0.6867123050902532\n",
      "r2_score corresponding to random state: 85  is: 0.7491268532862065\n",
      "r2_score corresponding to random state: 86  is: 0.5514373704307602\n",
      "r2_score corresponding to random state: 87  is: 0.4711428668279355\n",
      "r2_score corresponding to random state: 88  is: -0.01696377559156992\n",
      "r2_score corresponding to random state: 89  is: 0.5548443867132664\n",
      "r2_score corresponding to random state: 90  is: 0.7635845969081038\n",
      "r2_score corresponding to random state: 91  is: 0.47531125754126957\n",
      "r2_score corresponding to random state: 92  is: 0.7855454413983831\n",
      "r2_score corresponding to random state: 93  is: 0.6450372937807247\n",
      "r2_score corresponding to random state: 94  is: 0.5181787936809854\n",
      "r2_score corresponding to random state: 95  is: 0.8387587660203216\n",
      "r2_score corresponding to random state: 96  is: 0.3772604617150308\n",
      "r2_score corresponding to random state: 97  is: 0.8109310334008852\n",
      "r2_score corresponding to random state: 98  is: 0.4370048532884826\n",
      "r2_score corresponding to random state: 99  is: 0.8977429267732805\n",
      "r2_score corresponding to random state: 100  is: 0.36280461014256604\n",
      "\n",
      "\n",
      "max r2 score corresponding to  99  is  0.8977429267732805\n"
     ]
    }
   ],
   "source": [
    "#4.LASSO Regression\n",
    "from sklearn.linear_model import LassoCV\n",
    "Lr = LassoCV()\n",
    "r_state = maxr2_score(Lr,x,y)"
   ]
  },
  {
   "cell_type": "markdown",
   "metadata": {},
   "source": [
    "# Cross Validation"
   ]
  },
  {
   "cell_type": "code",
   "execution_count": 24,
   "metadata": {
    "id": "Flr_S3gUQwyO",
    "outputId": "bf5a2343-900c-4cfb-c2bb-f612d4e53e6a",
    "scrolled": true
   },
   "outputs": [
    {
     "data": {
      "text/plain": [
       "array([ 0.60033725, -1.19376656,  0.60330354,  0.86543186,  0.88297838])"
      ]
     },
     "execution_count": 24,
     "metadata": {},
     "output_type": "execute_result"
    }
   ],
   "source": [
    "#lets do the cross validation\n",
    "from sklearn import linear_model\n",
    "from sklearn.model_selection import cross_val_score\n",
    "cross_val_score(linear_model.LassoCV(),x,y,cv=5,scoring=\"r2\")\n",
    "#the below cross validation score is less and it shows that we further need to improve our model using more data"
   ]
  },
  {
   "cell_type": "markdown",
   "metadata": {
    "id": "Xssmm1NDQwya"
   },
   "source": [
    "# 6.RIDGE"
   ]
  },
  {
   "cell_type": "code",
   "execution_count": 25,
   "metadata": {
    "id": "wLdRMT8AQwya",
    "outputId": "7374d657-c31b-43d7-b524-ddebb14b4b6a",
    "scrolled": false
   },
   "outputs": [
    {
     "name": "stdout",
     "output_type": "stream",
     "text": [
      "r2_score corresponding to random state: 42  is: 0.7785652298383635\n",
      "r2_score corresponding to random state: 43  is: -1.1906595400797237\n",
      "r2_score corresponding to random state: 44  is: 0.6850852960935516\n",
      "r2_score corresponding to random state: 45  is: 0.4050800838711863\n",
      "r2_score corresponding to random state: 46  is: 0.9186900422831188\n",
      "r2_score corresponding to random state: 47  is: 0.9555682886063003\n",
      "r2_score corresponding to random state: 48  is: 0.03445752984120509\n",
      "r2_score corresponding to random state: 49  is: 0.021755684402986586\n",
      "r2_score corresponding to random state: 50  is: 0.8447899936628304\n",
      "r2_score corresponding to random state: 51  is: 0.6390005378001486\n",
      "r2_score corresponding to random state: 52  is: 0.5250467205096148\n",
      "r2_score corresponding to random state: 53  is: 0.391856401465174\n",
      "r2_score corresponding to random state: 54  is: 0.20235478593042877\n",
      "r2_score corresponding to random state: 55  is: 0.7067117601077858\n",
      "r2_score corresponding to random state: 56  is: 0.5361776123869163\n",
      "r2_score corresponding to random state: 57  is: 0.6236585573881691\n",
      "r2_score corresponding to random state: 58  is: 0.4362732534257766\n",
      "r2_score corresponding to random state: 59  is: 0.5187231320928236\n",
      "r2_score corresponding to random state: 60  is: 0.3957091900441464\n",
      "r2_score corresponding to random state: 61  is: 0.4127491728975301\n",
      "r2_score corresponding to random state: 62  is: 0.5100827695048318\n",
      "r2_score corresponding to random state: 63  is: 0.583628408083716\n",
      "r2_score corresponding to random state: 64  is: 0.745450438615058\n",
      "r2_score corresponding to random state: 65  is: 0.19938944683939996\n",
      "r2_score corresponding to random state: 66  is: 0.7925020279248999\n",
      "r2_score corresponding to random state: 67  is: 0.9237481734694307\n",
      "r2_score corresponding to random state: 68  is: 0.8288939968583668\n",
      "r2_score corresponding to random state: 69  is: 0.5425023148449656\n",
      "r2_score corresponding to random state: 70  is: -0.2722612827048496\n",
      "r2_score corresponding to random state: 71  is: -2.915204664536808\n",
      "r2_score corresponding to random state: 72  is: -0.6863233481361712\n",
      "r2_score corresponding to random state: 73  is: 0.8343650445462023\n",
      "r2_score corresponding to random state: 74  is: -0.6741070755262903\n",
      "r2_score corresponding to random state: 75  is: 0.698729289377879\n",
      "r2_score corresponding to random state: 76  is: 0.3963700678006832\n",
      "r2_score corresponding to random state: 77  is: 0.6291125566766269\n",
      "r2_score corresponding to random state: 78  is: 0.8261908499042924\n",
      "r2_score corresponding to random state: 79  is: 0.4909108262836779\n",
      "r2_score corresponding to random state: 80  is: 0.3615590149272623\n",
      "r2_score corresponding to random state: 81  is: 0.6369747087694706\n",
      "r2_score corresponding to random state: 82  is: 0.6053651105739086\n",
      "r2_score corresponding to random state: 83  is: 0.1679455021411892\n",
      "r2_score corresponding to random state: 84  is: 0.6379008435516313\n",
      "r2_score corresponding to random state: 85  is: 0.7970891133847495\n",
      "r2_score corresponding to random state: 86  is: -0.4220069399394355\n",
      "r2_score corresponding to random state: 87  is: 0.748182758564312\n",
      "r2_score corresponding to random state: 88  is: -2.0843652506949613\n",
      "r2_score corresponding to random state: 89  is: 0.5833828893477613\n",
      "r2_score corresponding to random state: 90  is: 0.752673098700961\n",
      "r2_score corresponding to random state: 91  is: 0.5163252806312794\n",
      "r2_score corresponding to random state: 92  is: 0.43150671427087817\n",
      "r2_score corresponding to random state: 93  is: 0.2834827711330252\n",
      "r2_score corresponding to random state: 94  is: 0.5016548858665316\n",
      "r2_score corresponding to random state: 95  is: 0.9074282052485935\n",
      "r2_score corresponding to random state: 96  is: -0.13395485314336697\n",
      "r2_score corresponding to random state: 97  is: 0.8225771106207447\n",
      "r2_score corresponding to random state: 98  is: -0.004642602162920451\n",
      "r2_score corresponding to random state: 99  is: 0.8917925582639877\n",
      "r2_score corresponding to random state: 100  is: 0.31129318584375365\n",
      "\n",
      "\n",
      "max r2 score corresponding to  47  is  0.9555682886063003\n"
     ]
    }
   ],
   "source": [
    "#5.Ridge Regression\n",
    "from sklearn.linear_model import RidgeCV\n",
    "rr = RidgeCV()\n",
    "r_state = maxr2_score(rr,x,y)"
   ]
  },
  {
   "cell_type": "markdown",
   "metadata": {},
   "source": [
    "# Cross Validation"
   ]
  },
  {
   "cell_type": "code",
   "execution_count": 26,
   "metadata": {
    "id": "Flr_S3gUQwyO",
    "outputId": "bf5a2343-900c-4cfb-c2bb-f612d4e53e6a",
    "scrolled": true
   },
   "outputs": [
    {
     "data": {
      "text/plain": [
       "array([ 0.59523081, -1.01689836,  0.57553635,  0.49239416,  0.50982791])"
      ]
     },
     "execution_count": 26,
     "metadata": {},
     "output_type": "execute_result"
    }
   ],
   "source": [
    "#lets do the cross validation\n",
    "from sklearn import linear_model\n",
    "from sklearn.model_selection import cross_val_score\n",
    "cross_val_score(linear_model.RidgeCV(),x,y,cv=5,scoring=\"r2\")\n",
    "#the below cross validation score is less and it shows that we further need to improve our model using more data"
   ]
  },
  {
   "cell_type": "markdown",
   "metadata": {},
   "source": [
    "# Prediction"
   ]
  },
  {
   "cell_type": "code",
   "execution_count": 27,
   "metadata": {},
   "outputs": [],
   "source": [
    "#RIDGE IS peforming good, so we will choose KNN as our Final model\n",
    "#RR is model\n",
    "x_train, x_test, y_train, y_test = train_test_split(x, y,random_state = 47,test_size=0.20)\n",
    "rr.fit(x_train,y_train)\n",
    "y_pred=rr.predict(x_test)"
   ]
  },
  {
   "cell_type": "code",
   "execution_count": 28,
   "metadata": {},
   "outputs": [
    {
     "name": "stdout",
     "output_type": "stream",
     "text": [
      "RMSE is:  2.368178487624869\n",
      "r2_score is:  0.9555682886063003\n"
     ]
    }
   ],
   "source": [
    "print(\"RMSE is: \",np.sqrt(mean_squared_error(y_test,y_pred)))\n",
    "print(\"r2_score is: \",r2_score(y_test,y_pred))"
   ]
  },
  {
   "cell_type": "code",
   "execution_count": 29,
   "metadata": {},
   "outputs": [],
   "source": [
    "#lets make the dataframe for price_pred\n",
    "y_pred=pd.DataFrame(y_pred,columns=[\"W\"])"
   ]
  },
  {
   "cell_type": "code",
   "execution_count": 30,
   "metadata": {},
   "outputs": [
    {
     "data": {
      "text/html": [
       "<div>\n",
       "<style scoped>\n",
       "    .dataframe tbody tr th:only-of-type {\n",
       "        vertical-align: middle;\n",
       "    }\n",
       "\n",
       "    .dataframe tbody tr th {\n",
       "        vertical-align: top;\n",
       "    }\n",
       "\n",
       "    .dataframe thead th {\n",
       "        text-align: right;\n",
       "    }\n",
       "</style>\n",
       "<table border=\"1\" class=\"dataframe\">\n",
       "  <thead>\n",
       "    <tr style=\"text-align: right;\">\n",
       "      <th></th>\n",
       "      <th>W</th>\n",
       "    </tr>\n",
       "  </thead>\n",
       "  <tbody>\n",
       "    <tr>\n",
       "      <th>0</th>\n",
       "      <td>96.683650</td>\n",
       "    </tr>\n",
       "    <tr>\n",
       "      <th>1</th>\n",
       "      <td>74.382128</td>\n",
       "    </tr>\n",
       "    <tr>\n",
       "      <th>2</th>\n",
       "      <td>78.342494</td>\n",
       "    </tr>\n",
       "    <tr>\n",
       "      <th>3</th>\n",
       "      <td>86.534528</td>\n",
       "    </tr>\n",
       "    <tr>\n",
       "      <th>4</th>\n",
       "      <td>76.371517</td>\n",
       "    </tr>\n",
       "  </tbody>\n",
       "</table>\n",
       "</div>"
      ],
      "text/plain": [
       "           W\n",
       "0  96.683650\n",
       "1  74.382128\n",
       "2  78.342494\n",
       "3  86.534528\n",
       "4  76.371517"
      ]
     },
     "execution_count": 30,
     "metadata": {},
     "output_type": "execute_result"
    }
   ],
   "source": [
    "#lets make the dataframe for price_pred\n",
    "y_pred.head()"
   ]
  },
  {
   "cell_type": "markdown",
   "metadata": {},
   "source": [
    "# Saving the file"
   ]
  },
  {
   "cell_type": "code",
   "execution_count": 31,
   "metadata": {},
   "outputs": [],
   "source": [
    "#Lets save the submission to csv\n",
    "y_pred.to_csv(\"baseball_prediction.csv\",index=False)"
   ]
  }
 ],
 "metadata": {
  "colab": {
   "name": "2 PROJECT  BASEBALL.ipynb",
   "provenance": []
  },
  "kernelspec": {
   "display_name": "Python 3",
   "language": "python",
   "name": "python3"
  },
  "language_info": {
   "codemirror_mode": {
    "name": "ipython",
    "version": 3
   },
   "file_extension": ".py",
   "mimetype": "text/x-python",
   "name": "python",
   "nbconvert_exporter": "python",
   "pygments_lexer": "ipython3",
   "version": "3.8.5"
  }
 },
 "nbformat": 4,
 "nbformat_minor": 1
}
